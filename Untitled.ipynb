{
 "cells": [
  {
   "cell_type": "code",
   "execution_count": 1,
   "metadata": {},
   "outputs": [],
   "source": [
    "import pandas as pd\n",
    "import numpy as np\n",
    "\n",
    "def fib(n):\n",
    "    if n < 1:\n",
    "        return \"Error: Value must be greater than 1\"\n",
    "    elif n in [1, 2]:\n",
    "            return 1\n",
    "    else:\n",
    "        return fib(n - 1) + fib(n - 2)"
   ]
  },
  {
   "cell_type": "code",
   "execution_count": 3,
   "metadata": {},
   "outputs": [
    {
     "name": "stdout",
     "output_type": "stream",
     "text": [
      "1\n",
      "1\n",
      "2\n",
      "3\n",
      "5\n",
      "8\n",
      "13\n",
      "21\n",
      "34\n"
     ]
    }
   ],
   "source": [
    "for i in range(1, 10):\n",
    "    print(fib(i))"
   ]
  },
  {
   "cell_type": "code",
   "execution_count": 8,
   "metadata": {},
   "outputs": [
    {
     "name": "stdout",
     "output_type": "stream",
     "text": [
      "[1, 2, 3, 4, 5, 6, 7, 8, 9]\n"
     ]
    }
   ],
   "source": [
    "print(list(range(1,10)))"
   ]
  },
  {
   "cell_type": "code",
   "execution_count": 31,
   "metadata": {},
   "outputs": [],
   "source": [
    "list = [8,11,24,56,88,131]\n",
    "def bsearch(list, idx0, idxn, val):\n",
    "    if (idxn < idx0):\n",
    "        return None\n",
    "    else:\n",
    "        midval = idx0 + ((idxn-idx0) // 2)\n",
    "        print('midval:', midval)\n",
    "        print('midval position:', list[midval])\n",
    "        print('val:', val)\n",
    "        if list[midval] > val:\n",
    "            print('midval position:', list[midval])\n",
    "            print('midval-1:', midval-1)\n",
    "            return bsearch(list, idx0, midval-1,val)\n",
    "        elif list[midval] < val:\n",
    "            print('midval position:', list[midval])\n",
    "            print('midval-1:', midval+1)\n",
    "            return bsearch(list, midval+1, idxn, val)\n",
    "        else:\n",
    "            print('Else')\n",
    "            return midval"
   ]
  },
  {
   "cell_type": "code",
   "execution_count": 32,
   "metadata": {},
   "outputs": [
    {
     "name": "stdout",
     "output_type": "stream",
     "text": [
      "midval: 2\n",
      "midval position: 24\n",
      "val: 24\n",
      "Else\n"
     ]
    },
    {
     "data": {
      "text/plain": [
       "2"
      ]
     },
     "execution_count": 32,
     "metadata": {},
     "output_type": "execute_result"
    }
   ],
   "source": [
    "bsearch(list, 0, 5, 24)"
   ]
  },
  {
   "cell_type": "code",
   "execution_count": 33,
   "metadata": {},
   "outputs": [
    {
     "name": "stdout",
     "output_type": "stream",
     "text": [
      "midval: 2\n",
      "midval position: 24\n",
      "val: 51\n",
      "midval position: 24\n",
      "midval-1: 3\n",
      "midval: 4\n",
      "midval position: 88\n",
      "val: 51\n",
      "midval position: 88\n",
      "midval-1: 3\n",
      "midval: 3\n",
      "midval position: 56\n",
      "val: 51\n",
      "midval position: 56\n",
      "midval-1: 2\n"
     ]
    }
   ],
   "source": [
    "bsearch(list, 0, 5, 51)"
   ]
  },
  {
   "cell_type": "code",
   "execution_count": null,
   "metadata": {},
   "outputs": [],
   "source": []
  }
 ],
 "metadata": {
  "kernelspec": {
   "display_name": "learn-env",
   "language": "python",
   "name": "learn-env"
  },
  "language_info": {
   "codemirror_mode": {
    "name": "ipython",
    "version": 3
   },
   "file_extension": ".py",
   "mimetype": "text/x-python",
   "name": "python",
   "nbconvert_exporter": "python",
   "pygments_lexer": "ipython3",
   "version": "3.6.6"
  }
 },
 "nbformat": 4,
 "nbformat_minor": 2
}
